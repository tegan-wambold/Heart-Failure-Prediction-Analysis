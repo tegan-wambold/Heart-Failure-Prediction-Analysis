{
 "cells": [
  {
   "cell_type": "code",
   "execution_count": 1,
   "id": "9f04def9",
   "metadata": {},
   "outputs": [],
   "source": [
    "import pandas as pd\n",
    "import numpy as np\n",
    "import seaborn as sns\n",
    "import matplotlib.pyplot as plt\n",
    "import pprint\n",
    "from pycaret.classification import *\n",
    "from sklearn.feature_selection import mutual_info_classif\n",
    "from sklearn.svm import SVC\n",
    "from sklearn.preprocessing import StandardScaler\n",
    "from sklearn.datasets import make_classification\n",
    "from sklearn.model_selection import train_test_split, GridSearchCV\n",
    "from sklearn.pipeline import Pipeline\n",
    "from sklearn.compose import ColumnTransformer\n",
    "from sklearn.preprocessing import StandardScaler, OneHotEncoder\n",
    "from sklearn.feature_selection import SelectKBest, mutual_info_classif\n",
    "from sklearn.ensemble import RandomForestClassifier\n",
    "from sklearn.linear_model import LogisticRegression\n",
    "from sklearn.metrics import accuracy_score, precision_score, f1_score, recall_score\n",
    "from sklearn.naive_bayes import GaussianNB\n",
    "from lightgbm import LGBMClassifier\n",
    "from sklearn.metrics import confusion_matrix, ConfusionMatrixDisplay, roc_auc_score, roc_curve\n",
    "from sklearn.metrics import RocCurveDisplay"
   ]
  },
  {
   "cell_type": "markdown",
   "id": "2052e92d",
   "metadata": {},
   "source": [
    "# Heart Failure Prediction Models\n",
    "\n",
    "This notebook develops and four different classifier models to predict the risk of heart failure based on clinical features.\n",
    "\n",
    "### Data\n",
    "The data was obtained from the UR Irvine Machine Learning Repository and consists of 12 clinical featuresacross data for 299 heart feailure patients.\n",
    "\n",
    "### Models Used:\n",
    "* Random Forest Classifier\n",
    "* Naive Bayes\n",
    "* LGBM Classifier\n",
    "* Logistic Regression\n",
    "\n",
    "### Methodology:\n",
    "* Numerical features scaled using `StandardScaler`.\n",
    "* Pipelines used for consistent, reproducbile preprocessing within each model.\n",
    "* Hyperparameters optimized using 5-fold cross-validation.\n",
    "* ROC curves and confusion matrices  used for model evaluation.\n",
    "\n",
    "### Evaluation Metrics:\n",
    "Models were evaluated based on:\n",
    "* Accuracy, Recall, Precision, F1 score\n",
    "* AUC\n",
    "* Confusion Matrix\n",
    "* ROC Curve"
   ]
  },
  {
   "cell_type": "code",
   "execution_count": 2,
   "id": "171c6ff9",
   "metadata": {},
   "outputs": [],
   "source": [
    "plt.style.use('seaborn-v0_8-colorblind')\n",
    "plt.rcParams['axes.grid'] = False"
   ]
  },
  {
   "cell_type": "code",
   "execution_count": 3,
   "id": "caea7e7e",
   "metadata": {},
   "outputs": [
    {
     "name": "stdout",
     "output_type": "stream",
     "text": [
      "                        name     role        type demographic  \\\n",
      "0                        age  Feature     Integer         Age   \n",
      "1                    anaemia  Feature      Binary        None   \n",
      "2   creatinine_phosphokinase  Feature     Integer        None   \n",
      "3                   diabetes  Feature      Binary        None   \n",
      "4          ejection_fraction  Feature     Integer        None   \n",
      "5        high_blood_pressure  Feature      Binary        None   \n",
      "6                  platelets  Feature  Continuous        None   \n",
      "7           serum_creatinine  Feature  Continuous        None   \n",
      "8               serum_sodium  Feature     Integer        None   \n",
      "9                        sex  Feature      Binary         Sex   \n",
      "10                   smoking  Feature      Binary        None   \n",
      "11                      time  Feature     Integer        None   \n",
      "12               death_event   Target      Binary        None   \n",
      "\n",
      "                                          description             units  \\\n",
      "0                                  age of the patient             years   \n",
      "1           decrease of red blood cells or hemoglobin              None   \n",
      "2                level of the CPK enzyme in the blood             mcg/L   \n",
      "3                         if the patient has diabetes              None   \n",
      "4   percentage of blood leaving the heart at each ...                 %   \n",
      "5                     if the patient has hypertension              None   \n",
      "6                              platelets in the blood  kiloplatelets/mL   \n",
      "7              level of serum creatinine in the blood             mg/dL   \n",
      "8                  level of serum sodium in the blood             mEq/L   \n",
      "9                                        woman or man              None   \n",
      "10                       if the patient smokes or not              None   \n",
      "11                                   follow-up period              days   \n",
      "12    if the patient died during the follow-up period              None   \n",
      "\n",
      "   missing_values  \n",
      "0              no  \n",
      "1              no  \n",
      "2              no  \n",
      "3              no  \n",
      "4              no  \n",
      "5              no  \n",
      "6              no  \n",
      "7              no  \n",
      "8              no  \n",
      "9              no  \n",
      "10             no  \n",
      "11             no  \n",
      "12             no  \n"
     ]
    }
   ],
   "source": [
    "from ucimlrepo import fetch_ucirepo \n",
    "  \n",
    "# fetch dataset \n",
    "heart_failure_clinical_records = fetch_ucirepo(id=519) \n",
    "  \n",
    "# data (as pandas dataframes) \n",
    "X = heart_failure_clinical_records.data.features \n",
    "y = heart_failure_clinical_records.data.targets \n",
    "  \n",
    "# variable information \n",
    "print(heart_failure_clinical_records.variables) "
   ]
  },
  {
   "cell_type": "code",
   "execution_count": 4,
   "id": "06594648",
   "metadata": {},
   "outputs": [],
   "source": [
    "num_vars = ['age', 'creatinine_phosphokinase', 'ejection_fraction', 'platelets', 'serum_creatinine', 'serum_sodium', 'time']\n",
    "cat_vars = ['anaemia', 'diabetes', 'high_blood_pressure', 'sex', 'smoking']"
   ]
  },
  {
   "cell_type": "code",
   "execution_count": 5,
   "id": "9ac70425",
   "metadata": {},
   "outputs": [],
   "source": [
    "X_train, X_test, y_train, y_test = train_test_split(X, y, test_size=.2, random_state=42)"
   ]
  },
  {
   "cell_type": "code",
   "execution_count": 6,
   "id": "750c8008",
   "metadata": {},
   "outputs": [
    {
     "data": {
      "text/html": [
       "<div>\n",
       "<style scoped>\n",
       "    .dataframe tbody tr th:only-of-type {\n",
       "        vertical-align: middle;\n",
       "    }\n",
       "\n",
       "    .dataframe tbody tr th {\n",
       "        vertical-align: top;\n",
       "    }\n",
       "\n",
       "    .dataframe thead th {\n",
       "        text-align: right;\n",
       "    }\n",
       "</style>\n",
       "<table border=\"1\" class=\"dataframe\">\n",
       "  <thead>\n",
       "    <tr style=\"text-align: right;\">\n",
       "      <th></th>\n",
       "      <th>age</th>\n",
       "      <th>anaemia</th>\n",
       "      <th>creatinine_phosphokinase</th>\n",
       "      <th>diabetes</th>\n",
       "      <th>ejection_fraction</th>\n",
       "      <th>high_blood_pressure</th>\n",
       "      <th>platelets</th>\n",
       "      <th>serum_creatinine</th>\n",
       "      <th>serum_sodium</th>\n",
       "      <th>sex</th>\n",
       "      <th>smoking</th>\n",
       "      <th>time</th>\n",
       "      <th>death_event</th>\n",
       "    </tr>\n",
       "  </thead>\n",
       "  <tbody>\n",
       "    <tr>\n",
       "      <th>6</th>\n",
       "      <td>75.000</td>\n",
       "      <td>1</td>\n",
       "      <td>246</td>\n",
       "      <td>0</td>\n",
       "      <td>15</td>\n",
       "      <td>0</td>\n",
       "      <td>127000.00</td>\n",
       "      <td>1.20</td>\n",
       "      <td>137</td>\n",
       "      <td>1</td>\n",
       "      <td>0</td>\n",
       "      <td>10</td>\n",
       "      <td>1</td>\n",
       "    </tr>\n",
       "    <tr>\n",
       "      <th>183</th>\n",
       "      <td>75.000</td>\n",
       "      <td>0</td>\n",
       "      <td>99</td>\n",
       "      <td>0</td>\n",
       "      <td>38</td>\n",
       "      <td>1</td>\n",
       "      <td>224000.00</td>\n",
       "      <td>2.50</td>\n",
       "      <td>134</td>\n",
       "      <td>1</td>\n",
       "      <td>0</td>\n",
       "      <td>162</td>\n",
       "      <td>1</td>\n",
       "    </tr>\n",
       "    <tr>\n",
       "      <th>185</th>\n",
       "      <td>60.667</td>\n",
       "      <td>1</td>\n",
       "      <td>104</td>\n",
       "      <td>1</td>\n",
       "      <td>30</td>\n",
       "      <td>0</td>\n",
       "      <td>389000.00</td>\n",
       "      <td>1.50</td>\n",
       "      <td>136</td>\n",
       "      <td>1</td>\n",
       "      <td>0</td>\n",
       "      <td>171</td>\n",
       "      <td>1</td>\n",
       "    </tr>\n",
       "    <tr>\n",
       "      <th>146</th>\n",
       "      <td>52.000</td>\n",
       "      <td>0</td>\n",
       "      <td>132</td>\n",
       "      <td>0</td>\n",
       "      <td>30</td>\n",
       "      <td>0</td>\n",
       "      <td>218000.00</td>\n",
       "      <td>0.70</td>\n",
       "      <td>136</td>\n",
       "      <td>1</td>\n",
       "      <td>1</td>\n",
       "      <td>112</td>\n",
       "      <td>0</td>\n",
       "    </tr>\n",
       "    <tr>\n",
       "      <th>30</th>\n",
       "      <td>94.000</td>\n",
       "      <td>0</td>\n",
       "      <td>582</td>\n",
       "      <td>1</td>\n",
       "      <td>38</td>\n",
       "      <td>1</td>\n",
       "      <td>263358.03</td>\n",
       "      <td>1.83</td>\n",
       "      <td>134</td>\n",
       "      <td>1</td>\n",
       "      <td>0</td>\n",
       "      <td>27</td>\n",
       "      <td>1</td>\n",
       "    </tr>\n",
       "  </tbody>\n",
       "</table>\n",
       "</div>"
      ],
      "text/plain": [
       "        age  anaemia  creatinine_phosphokinase  diabetes  ejection_fraction  \\\n",
       "6    75.000        1                       246         0                 15   \n",
       "183  75.000        0                        99         0                 38   \n",
       "185  60.667        1                       104         1                 30   \n",
       "146  52.000        0                       132         0                 30   \n",
       "30   94.000        0                       582         1                 38   \n",
       "\n",
       "     high_blood_pressure  platelets  serum_creatinine  serum_sodium  sex  \\\n",
       "6                      0  127000.00              1.20           137    1   \n",
       "183                    1  224000.00              2.50           134    1   \n",
       "185                    0  389000.00              1.50           136    1   \n",
       "146                    0  218000.00              0.70           136    1   \n",
       "30                     1  263358.03              1.83           134    1   \n",
       "\n",
       "     smoking  time  death_event  \n",
       "6          0    10            1  \n",
       "183        0   162            1  \n",
       "185        0   171            1  \n",
       "146        1   112            0  \n",
       "30         0    27            1  "
      ]
     },
     "execution_count": 6,
     "metadata": {},
     "output_type": "execute_result"
    }
   ],
   "source": [
    "train_df = pd.concat([X_train, y_train], axis=1)\n",
    "train_df.head()"
   ]
  },
  {
   "cell_type": "code",
   "execution_count": 7,
   "id": "1da93f49",
   "metadata": {},
   "outputs": [
    {
     "data": {
      "text/html": [
       "<style type=\"text/css\">\n",
       "#T_272f6_row8_col1 {\n",
       "  background-color: lightgreen;\n",
       "}\n",
       "</style>\n",
       "<table id=\"T_272f6\">\n",
       "  <thead>\n",
       "    <tr>\n",
       "      <th class=\"blank level0\" >&nbsp;</th>\n",
       "      <th id=\"T_272f6_level0_col0\" class=\"col_heading level0 col0\" >Description</th>\n",
       "      <th id=\"T_272f6_level0_col1\" class=\"col_heading level0 col1\" >Value</th>\n",
       "    </tr>\n",
       "  </thead>\n",
       "  <tbody>\n",
       "    <tr>\n",
       "      <th id=\"T_272f6_level0_row0\" class=\"row_heading level0 row0\" >0</th>\n",
       "      <td id=\"T_272f6_row0_col0\" class=\"data row0 col0\" >Session id</td>\n",
       "      <td id=\"T_272f6_row0_col1\" class=\"data row0 col1\" >123</td>\n",
       "    </tr>\n",
       "    <tr>\n",
       "      <th id=\"T_272f6_level0_row1\" class=\"row_heading level0 row1\" >1</th>\n",
       "      <td id=\"T_272f6_row1_col0\" class=\"data row1 col0\" >Target</td>\n",
       "      <td id=\"T_272f6_row1_col1\" class=\"data row1 col1\" >death_event</td>\n",
       "    </tr>\n",
       "    <tr>\n",
       "      <th id=\"T_272f6_level0_row2\" class=\"row_heading level0 row2\" >2</th>\n",
       "      <td id=\"T_272f6_row2_col0\" class=\"data row2 col0\" >Target type</td>\n",
       "      <td id=\"T_272f6_row2_col1\" class=\"data row2 col1\" >Binary</td>\n",
       "    </tr>\n",
       "    <tr>\n",
       "      <th id=\"T_272f6_level0_row3\" class=\"row_heading level0 row3\" >3</th>\n",
       "      <td id=\"T_272f6_row3_col0\" class=\"data row3 col0\" >Original data shape</td>\n",
       "      <td id=\"T_272f6_row3_col1\" class=\"data row3 col1\" >(239, 13)</td>\n",
       "    </tr>\n",
       "    <tr>\n",
       "      <th id=\"T_272f6_level0_row4\" class=\"row_heading level0 row4\" >4</th>\n",
       "      <td id=\"T_272f6_row4_col0\" class=\"data row4 col0\" >Transformed data shape</td>\n",
       "      <td id=\"T_272f6_row4_col1\" class=\"data row4 col1\" >(239, 13)</td>\n",
       "    </tr>\n",
       "    <tr>\n",
       "      <th id=\"T_272f6_level0_row5\" class=\"row_heading level0 row5\" >5</th>\n",
       "      <td id=\"T_272f6_row5_col0\" class=\"data row5 col0\" >Transformed train set shape</td>\n",
       "      <td id=\"T_272f6_row5_col1\" class=\"data row5 col1\" >(167, 13)</td>\n",
       "    </tr>\n",
       "    <tr>\n",
       "      <th id=\"T_272f6_level0_row6\" class=\"row_heading level0 row6\" >6</th>\n",
       "      <td id=\"T_272f6_row6_col0\" class=\"data row6 col0\" >Transformed test set shape</td>\n",
       "      <td id=\"T_272f6_row6_col1\" class=\"data row6 col1\" >(72, 13)</td>\n",
       "    </tr>\n",
       "    <tr>\n",
       "      <th id=\"T_272f6_level0_row7\" class=\"row_heading level0 row7\" >7</th>\n",
       "      <td id=\"T_272f6_row7_col0\" class=\"data row7 col0\" >Numeric features</td>\n",
       "      <td id=\"T_272f6_row7_col1\" class=\"data row7 col1\" >12</td>\n",
       "    </tr>\n",
       "    <tr>\n",
       "      <th id=\"T_272f6_level0_row8\" class=\"row_heading level0 row8\" >8</th>\n",
       "      <td id=\"T_272f6_row8_col0\" class=\"data row8 col0\" >Preprocess</td>\n",
       "      <td id=\"T_272f6_row8_col1\" class=\"data row8 col1\" >True</td>\n",
       "    </tr>\n",
       "    <tr>\n",
       "      <th id=\"T_272f6_level0_row9\" class=\"row_heading level0 row9\" >9</th>\n",
       "      <td id=\"T_272f6_row9_col0\" class=\"data row9 col0\" >Imputation type</td>\n",
       "      <td id=\"T_272f6_row9_col1\" class=\"data row9 col1\" >simple</td>\n",
       "    </tr>\n",
       "    <tr>\n",
       "      <th id=\"T_272f6_level0_row10\" class=\"row_heading level0 row10\" >10</th>\n",
       "      <td id=\"T_272f6_row10_col0\" class=\"data row10 col0\" >Numeric imputation</td>\n",
       "      <td id=\"T_272f6_row10_col1\" class=\"data row10 col1\" >mean</td>\n",
       "    </tr>\n",
       "    <tr>\n",
       "      <th id=\"T_272f6_level0_row11\" class=\"row_heading level0 row11\" >11</th>\n",
       "      <td id=\"T_272f6_row11_col0\" class=\"data row11 col0\" >Categorical imputation</td>\n",
       "      <td id=\"T_272f6_row11_col1\" class=\"data row11 col1\" >mode</td>\n",
       "    </tr>\n",
       "    <tr>\n",
       "      <th id=\"T_272f6_level0_row12\" class=\"row_heading level0 row12\" >12</th>\n",
       "      <td id=\"T_272f6_row12_col0\" class=\"data row12 col0\" >Fold Generator</td>\n",
       "      <td id=\"T_272f6_row12_col1\" class=\"data row12 col1\" >StratifiedKFold</td>\n",
       "    </tr>\n",
       "    <tr>\n",
       "      <th id=\"T_272f6_level0_row13\" class=\"row_heading level0 row13\" >13</th>\n",
       "      <td id=\"T_272f6_row13_col0\" class=\"data row13 col0\" >Fold Number</td>\n",
       "      <td id=\"T_272f6_row13_col1\" class=\"data row13 col1\" >10</td>\n",
       "    </tr>\n",
       "    <tr>\n",
       "      <th id=\"T_272f6_level0_row14\" class=\"row_heading level0 row14\" >14</th>\n",
       "      <td id=\"T_272f6_row14_col0\" class=\"data row14 col0\" >CPU Jobs</td>\n",
       "      <td id=\"T_272f6_row14_col1\" class=\"data row14 col1\" >-1</td>\n",
       "    </tr>\n",
       "    <tr>\n",
       "      <th id=\"T_272f6_level0_row15\" class=\"row_heading level0 row15\" >15</th>\n",
       "      <td id=\"T_272f6_row15_col0\" class=\"data row15 col0\" >Use GPU</td>\n",
       "      <td id=\"T_272f6_row15_col1\" class=\"data row15 col1\" >False</td>\n",
       "    </tr>\n",
       "    <tr>\n",
       "      <th id=\"T_272f6_level0_row16\" class=\"row_heading level0 row16\" >16</th>\n",
       "      <td id=\"T_272f6_row16_col0\" class=\"data row16 col0\" >Log Experiment</td>\n",
       "      <td id=\"T_272f6_row16_col1\" class=\"data row16 col1\" >False</td>\n",
       "    </tr>\n",
       "    <tr>\n",
       "      <th id=\"T_272f6_level0_row17\" class=\"row_heading level0 row17\" >17</th>\n",
       "      <td id=\"T_272f6_row17_col0\" class=\"data row17 col0\" >Experiment Name</td>\n",
       "      <td id=\"T_272f6_row17_col1\" class=\"data row17 col1\" >clf-default-name</td>\n",
       "    </tr>\n",
       "    <tr>\n",
       "      <th id=\"T_272f6_level0_row18\" class=\"row_heading level0 row18\" >18</th>\n",
       "      <td id=\"T_272f6_row18_col0\" class=\"data row18 col0\" >USI</td>\n",
       "      <td id=\"T_272f6_row18_col1\" class=\"data row18 col1\" >6b2e</td>\n",
       "    </tr>\n",
       "  </tbody>\n",
       "</table>\n"
      ],
      "text/plain": [
       "<pandas.io.formats.style.Styler at 0x2288d774e10>"
      ]
     },
     "metadata": {},
     "output_type": "display_data"
    },
    {
     "data": {
      "text/html": [],
      "text/plain": [
       "<IPython.core.display.HTML object>"
      ]
     },
     "metadata": {},
     "output_type": "display_data"
    },
    {
     "data": {
      "text/html": [
       "<style type=\"text/css\">\n",
       "#T_7f986 th {\n",
       "  text-align: left;\n",
       "}\n",
       "#T_7f986_row0_col0, #T_7f986_row1_col0, #T_7f986_row1_col1, #T_7f986_row1_col2, #T_7f986_row1_col3, #T_7f986_row1_col4, #T_7f986_row1_col5, #T_7f986_row1_col6, #T_7f986_row1_col7, #T_7f986_row2_col0, #T_7f986_row2_col1, #T_7f986_row2_col2, #T_7f986_row2_col3, #T_7f986_row2_col4, #T_7f986_row2_col5, #T_7f986_row2_col6, #T_7f986_row2_col7, #T_7f986_row3_col0, #T_7f986_row3_col1, #T_7f986_row3_col2, #T_7f986_row3_col3, #T_7f986_row3_col4, #T_7f986_row3_col5, #T_7f986_row3_col6, #T_7f986_row3_col7, #T_7f986_row4_col0, #T_7f986_row4_col1, #T_7f986_row4_col2, #T_7f986_row4_col3, #T_7f986_row4_col4, #T_7f986_row4_col5, #T_7f986_row4_col6, #T_7f986_row4_col7, #T_7f986_row5_col0, #T_7f986_row5_col1, #T_7f986_row5_col2, #T_7f986_row5_col3, #T_7f986_row5_col4, #T_7f986_row5_col5, #T_7f986_row5_col6, #T_7f986_row5_col7, #T_7f986_row6_col0, #T_7f986_row6_col1, #T_7f986_row6_col2, #T_7f986_row6_col3, #T_7f986_row6_col4, #T_7f986_row6_col5, #T_7f986_row6_col6, #T_7f986_row6_col7, #T_7f986_row7_col0, #T_7f986_row7_col1, #T_7f986_row7_col2, #T_7f986_row7_col3, #T_7f986_row7_col4, #T_7f986_row7_col5, #T_7f986_row7_col6, #T_7f986_row7_col7, #T_7f986_row8_col0, #T_7f986_row8_col1, #T_7f986_row8_col2, #T_7f986_row8_col3, #T_7f986_row8_col4, #T_7f986_row8_col5, #T_7f986_row8_col6, #T_7f986_row8_col7, #T_7f986_row9_col0, #T_7f986_row9_col1, #T_7f986_row9_col2, #T_7f986_row9_col3, #T_7f986_row9_col4, #T_7f986_row9_col5, #T_7f986_row9_col6, #T_7f986_row9_col7, #T_7f986_row10_col0, #T_7f986_row10_col1, #T_7f986_row10_col2, #T_7f986_row10_col3, #T_7f986_row10_col4, #T_7f986_row10_col5, #T_7f986_row10_col6, #T_7f986_row10_col7, #T_7f986_row11_col0, #T_7f986_row11_col1, #T_7f986_row11_col2, #T_7f986_row11_col3, #T_7f986_row11_col4, #T_7f986_row11_col5, #T_7f986_row11_col6, #T_7f986_row11_col7, #T_7f986_row12_col0, #T_7f986_row12_col1, #T_7f986_row12_col2, #T_7f986_row12_col3, #T_7f986_row12_col4, #T_7f986_row12_col5, #T_7f986_row12_col6, #T_7f986_row12_col7, #T_7f986_row13_col0, #T_7f986_row13_col1, #T_7f986_row13_col2, #T_7f986_row13_col3, #T_7f986_row13_col4, #T_7f986_row13_col5, #T_7f986_row13_col6, #T_7f986_row13_col7 {\n",
       "  text-align: left;\n",
       "}\n",
       "#T_7f986_row0_col1, #T_7f986_row0_col2, #T_7f986_row0_col3, #T_7f986_row0_col4, #T_7f986_row0_col5, #T_7f986_row0_col6, #T_7f986_row0_col7 {\n",
       "  text-align: left;\n",
       "  background-color: yellow;\n",
       "}\n",
       "#T_7f986_row0_col8, #T_7f986_row1_col8, #T_7f986_row3_col8, #T_7f986_row4_col8, #T_7f986_row5_col8, #T_7f986_row7_col8, #T_7f986_row9_col8, #T_7f986_row11_col8 {\n",
       "  text-align: left;\n",
       "  background-color: lightgrey;\n",
       "}\n",
       "#T_7f986_row2_col8, #T_7f986_row6_col8, #T_7f986_row8_col8, #T_7f986_row10_col8, #T_7f986_row12_col8, #T_7f986_row13_col8 {\n",
       "  text-align: left;\n",
       "  background-color: yellow;\n",
       "  background-color: lightgrey;\n",
       "}\n",
       "</style>\n",
       "<table id=\"T_7f986\">\n",
       "  <thead>\n",
       "    <tr>\n",
       "      <th class=\"blank level0\" >&nbsp;</th>\n",
       "      <th id=\"T_7f986_level0_col0\" class=\"col_heading level0 col0\" >Model</th>\n",
       "      <th id=\"T_7f986_level0_col1\" class=\"col_heading level0 col1\" >Accuracy</th>\n",
       "      <th id=\"T_7f986_level0_col2\" class=\"col_heading level0 col2\" >AUC</th>\n",
       "      <th id=\"T_7f986_level0_col3\" class=\"col_heading level0 col3\" >Recall</th>\n",
       "      <th id=\"T_7f986_level0_col4\" class=\"col_heading level0 col4\" >Prec.</th>\n",
       "      <th id=\"T_7f986_level0_col5\" class=\"col_heading level0 col5\" >F1</th>\n",
       "      <th id=\"T_7f986_level0_col6\" class=\"col_heading level0 col6\" >Kappa</th>\n",
       "      <th id=\"T_7f986_level0_col7\" class=\"col_heading level0 col7\" >MCC</th>\n",
       "      <th id=\"T_7f986_level0_col8\" class=\"col_heading level0 col8\" >TT (Sec)</th>\n",
       "    </tr>\n",
       "  </thead>\n",
       "  <tbody>\n",
       "    <tr>\n",
       "      <th id=\"T_7f986_level0_row0\" class=\"row_heading level0 row0\" >rf</th>\n",
       "      <td id=\"T_7f986_row0_col0\" class=\"data row0 col0\" >Random Forest Classifier</td>\n",
       "      <td id=\"T_7f986_row0_col1\" class=\"data row0 col1\" >0.9048</td>\n",
       "      <td id=\"T_7f986_row0_col2\" class=\"data row0 col2\" >0.9470</td>\n",
       "      <td id=\"T_7f986_row0_col3\" class=\"data row0 col3\" >0.7800</td>\n",
       "      <td id=\"T_7f986_row0_col4\" class=\"data row0 col4\" >0.8933</td>\n",
       "      <td id=\"T_7f986_row0_col5\" class=\"data row0 col5\" >0.8259</td>\n",
       "      <td id=\"T_7f986_row0_col6\" class=\"data row0 col6\" >0.7614</td>\n",
       "      <td id=\"T_7f986_row0_col7\" class=\"data row0 col7\" >0.7702</td>\n",
       "      <td id=\"T_7f986_row0_col8\" class=\"data row0 col8\" >0.0170</td>\n",
       "    </tr>\n",
       "    <tr>\n",
       "      <th id=\"T_7f986_level0_row1\" class=\"row_heading level0 row1\" >lightgbm</th>\n",
       "      <td id=\"T_7f986_row1_col0\" class=\"data row1 col0\" >Light Gradient Boosting Machine</td>\n",
       "      <td id=\"T_7f986_row1_col1\" class=\"data row1 col1\" >0.8750</td>\n",
       "      <td id=\"T_7f986_row1_col2\" class=\"data row1 col2\" >0.9302</td>\n",
       "      <td id=\"T_7f986_row1_col3\" class=\"data row1 col3\" >0.7200</td>\n",
       "      <td id=\"T_7f986_row1_col4\" class=\"data row1 col4\" >0.8564</td>\n",
       "      <td id=\"T_7f986_row1_col5\" class=\"data row1 col5\" >0.7644</td>\n",
       "      <td id=\"T_7f986_row1_col6\" class=\"data row1 col6\" >0.6826</td>\n",
       "      <td id=\"T_7f986_row1_col7\" class=\"data row1 col7\" >0.6999</td>\n",
       "      <td id=\"T_7f986_row1_col8\" class=\"data row1 col8\" >0.0290</td>\n",
       "    </tr>\n",
       "    <tr>\n",
       "      <th id=\"T_7f986_level0_row2\" class=\"row_heading level0 row2\" >nb</th>\n",
       "      <td id=\"T_7f986_row2_col0\" class=\"data row2 col0\" >Naive Bayes</td>\n",
       "      <td id=\"T_7f986_row2_col1\" class=\"data row2 col1\" >0.8566</td>\n",
       "      <td id=\"T_7f986_row2_col2\" class=\"data row2 col2\" >0.8447</td>\n",
       "      <td id=\"T_7f986_row2_col3\" class=\"data row2 col3\" >0.7200</td>\n",
       "      <td id=\"T_7f986_row2_col4\" class=\"data row2 col4\" >0.8100</td>\n",
       "      <td id=\"T_7f986_row2_col5\" class=\"data row2 col5\" >0.7534</td>\n",
       "      <td id=\"T_7f986_row2_col6\" class=\"data row2 col6\" >0.6534</td>\n",
       "      <td id=\"T_7f986_row2_col7\" class=\"data row2 col7\" >0.6624</td>\n",
       "      <td id=\"T_7f986_row2_col8\" class=\"data row2 col8\" >0.0040</td>\n",
       "    </tr>\n",
       "    <tr>\n",
       "      <th id=\"T_7f986_level0_row3\" class=\"row_heading level0 row3\" >et</th>\n",
       "      <td id=\"T_7f986_row3_col0\" class=\"data row3 col0\" >Extra Trees Classifier</td>\n",
       "      <td id=\"T_7f986_row3_col1\" class=\"data row3 col1\" >0.8562</td>\n",
       "      <td id=\"T_7f986_row3_col2\" class=\"data row3 col2\" >0.9118</td>\n",
       "      <td id=\"T_7f986_row3_col3\" class=\"data row3 col3\" >0.6400</td>\n",
       "      <td id=\"T_7f986_row3_col4\" class=\"data row3 col4\" >0.8517</td>\n",
       "      <td id=\"T_7f986_row3_col5\" class=\"data row3 col5\" >0.7199</td>\n",
       "      <td id=\"T_7f986_row3_col6\" class=\"data row3 col6\" >0.6277</td>\n",
       "      <td id=\"T_7f986_row3_col7\" class=\"data row3 col7\" >0.6455</td>\n",
       "      <td id=\"T_7f986_row3_col8\" class=\"data row3 col8\" >0.0150</td>\n",
       "    </tr>\n",
       "    <tr>\n",
       "      <th id=\"T_7f986_level0_row4\" class=\"row_heading level0 row4\" >ada</th>\n",
       "      <td id=\"T_7f986_row4_col0\" class=\"data row4 col0\" >Ada Boost Classifier</td>\n",
       "      <td id=\"T_7f986_row4_col1\" class=\"data row4 col1\" >0.8441</td>\n",
       "      <td id=\"T_7f986_row4_col2\" class=\"data row4 col2\" >0.8548</td>\n",
       "      <td id=\"T_7f986_row4_col3\" class=\"data row4 col3\" >0.6600</td>\n",
       "      <td id=\"T_7f986_row4_col4\" class=\"data row4 col4\" >0.8371</td>\n",
       "      <td id=\"T_7f986_row4_col5\" class=\"data row4 col5\" >0.7195</td>\n",
       "      <td id=\"T_7f986_row4_col6\" class=\"data row4 col6\" >0.6150</td>\n",
       "      <td id=\"T_7f986_row4_col7\" class=\"data row4 col7\" >0.6360</td>\n",
       "      <td id=\"T_7f986_row4_col8\" class=\"data row4 col8\" >0.0110</td>\n",
       "    </tr>\n",
       "    <tr>\n",
       "      <th id=\"T_7f986_level0_row5\" class=\"row_heading level0 row5\" >gbc</th>\n",
       "      <td id=\"T_7f986_row5_col0\" class=\"data row5 col0\" >Gradient Boosting Classifier</td>\n",
       "      <td id=\"T_7f986_row5_col1\" class=\"data row5 col1\" >0.8379</td>\n",
       "      <td id=\"T_7f986_row5_col2\" class=\"data row5 col2\" >0.9227</td>\n",
       "      <td id=\"T_7f986_row5_col3\" class=\"data row5 col3\" >0.6800</td>\n",
       "      <td id=\"T_7f986_row5_col4\" class=\"data row5 col4\" >0.7988</td>\n",
       "      <td id=\"T_7f986_row5_col5\" class=\"data row5 col5\" >0.7150</td>\n",
       "      <td id=\"T_7f986_row5_col6\" class=\"data row5 col6\" >0.6047</td>\n",
       "      <td id=\"T_7f986_row5_col7\" class=\"data row5 col7\" >0.6220</td>\n",
       "      <td id=\"T_7f986_row5_col8\" class=\"data row5 col8\" >0.0120</td>\n",
       "    </tr>\n",
       "    <tr>\n",
       "      <th id=\"T_7f986_level0_row6\" class=\"row_heading level0 row6\" >dt</th>\n",
       "      <td id=\"T_7f986_row6_col0\" class=\"data row6 col0\" >Decision Tree Classifier</td>\n",
       "      <td id=\"T_7f986_row6_col1\" class=\"data row6 col1\" >0.8331</td>\n",
       "      <td id=\"T_7f986_row6_col2\" class=\"data row6 col2\" >0.7947</td>\n",
       "      <td id=\"T_7f986_row6_col3\" class=\"data row6 col3\" >0.7000</td>\n",
       "      <td id=\"T_7f986_row6_col4\" class=\"data row6 col4\" >0.7760</td>\n",
       "      <td id=\"T_7f986_row6_col5\" class=\"data row6 col5\" >0.7091</td>\n",
       "      <td id=\"T_7f986_row6_col6\" class=\"data row6 col6\" >0.5965</td>\n",
       "      <td id=\"T_7f986_row6_col7\" class=\"data row6 col7\" >0.6189</td>\n",
       "      <td id=\"T_7f986_row6_col8\" class=\"data row6 col8\" >0.0040</td>\n",
       "    </tr>\n",
       "    <tr>\n",
       "      <th id=\"T_7f986_level0_row7\" class=\"row_heading level0 row7\" >lda</th>\n",
       "      <td id=\"T_7f986_row7_col0\" class=\"data row7 col0\" >Linear Discriminant Analysis</td>\n",
       "      <td id=\"T_7f986_row7_col1\" class=\"data row7 col1\" >0.8268</td>\n",
       "      <td id=\"T_7f986_row7_col2\" class=\"data row7 col2\" >0.8635</td>\n",
       "      <td id=\"T_7f986_row7_col3\" class=\"data row7 col3\" >0.7200</td>\n",
       "      <td id=\"T_7f986_row7_col4\" class=\"data row7 col4\" >0.7188</td>\n",
       "      <td id=\"T_7f986_row7_col5\" class=\"data row7 col5\" >0.7139</td>\n",
       "      <td id=\"T_7f986_row7_col6\" class=\"data row7 col6\" >0.5909</td>\n",
       "      <td id=\"T_7f986_row7_col7\" class=\"data row7 col7\" >0.5953</td>\n",
       "      <td id=\"T_7f986_row7_col8\" class=\"data row7 col8\" >0.0050</td>\n",
       "    </tr>\n",
       "    <tr>\n",
       "      <th id=\"T_7f986_level0_row8\" class=\"row_heading level0 row8\" >ridge</th>\n",
       "      <td id=\"T_7f986_row8_col0\" class=\"data row8 col0\" >Ridge Classifier</td>\n",
       "      <td id=\"T_7f986_row8_col1\" class=\"data row8 col1\" >0.8210</td>\n",
       "      <td id=\"T_7f986_row8_col2\" class=\"data row8 col2\" >0.0000</td>\n",
       "      <td id=\"T_7f986_row8_col3\" class=\"data row8 col3\" >0.6800</td>\n",
       "      <td id=\"T_7f986_row8_col4\" class=\"data row8 col4\" >0.7117</td>\n",
       "      <td id=\"T_7f986_row8_col5\" class=\"data row8 col5\" >0.6917</td>\n",
       "      <td id=\"T_7f986_row8_col6\" class=\"data row8 col6\" >0.5664</td>\n",
       "      <td id=\"T_7f986_row8_col7\" class=\"data row8 col7\" >0.5695</td>\n",
       "      <td id=\"T_7f986_row8_col8\" class=\"data row8 col8\" >0.0040</td>\n",
       "    </tr>\n",
       "    <tr>\n",
       "      <th id=\"T_7f986_level0_row9\" class=\"row_heading level0 row9\" >lr</th>\n",
       "      <td id=\"T_7f986_row9_col0\" class=\"data row9 col0\" >Logistic Regression</td>\n",
       "      <td id=\"T_7f986_row9_col1\" class=\"data row9 col1\" >0.8143</td>\n",
       "      <td id=\"T_7f986_row9_col2\" class=\"data row9 col2\" >0.8652</td>\n",
       "      <td id=\"T_7f986_row9_col3\" class=\"data row9 col3\" >0.6600</td>\n",
       "      <td id=\"T_7f986_row9_col4\" class=\"data row9 col4\" >0.7138</td>\n",
       "      <td id=\"T_7f986_row9_col5\" class=\"data row9 col5\" >0.6794</td>\n",
       "      <td id=\"T_7f986_row9_col6\" class=\"data row9 col6\" >0.5502</td>\n",
       "      <td id=\"T_7f986_row9_col7\" class=\"data row9 col7\" >0.5563</td>\n",
       "      <td id=\"T_7f986_row9_col8\" class=\"data row9 col8\" >0.3900</td>\n",
       "    </tr>\n",
       "    <tr>\n",
       "      <th id=\"T_7f986_level0_row10\" class=\"row_heading level0 row10\" >qda</th>\n",
       "      <td id=\"T_7f986_row10_col0\" class=\"data row10 col0\" >Quadratic Discriminant Analysis</td>\n",
       "      <td id=\"T_7f986_row10_col1\" class=\"data row10 col1\" >0.7665</td>\n",
       "      <td id=\"T_7f986_row10_col2\" class=\"data row10 col2\" >0.7888</td>\n",
       "      <td id=\"T_7f986_row10_col3\" class=\"data row10 col3\" >0.5000</td>\n",
       "      <td id=\"T_7f986_row10_col4\" class=\"data row10 col4\" >0.6679</td>\n",
       "      <td id=\"T_7f986_row10_col5\" class=\"data row10 col5\" >0.5639</td>\n",
       "      <td id=\"T_7f986_row10_col6\" class=\"data row10 col6\" >0.4098</td>\n",
       "      <td id=\"T_7f986_row10_col7\" class=\"data row10 col7\" >0.4229</td>\n",
       "      <td id=\"T_7f986_row10_col8\" class=\"data row10 col8\" >0.0040</td>\n",
       "    </tr>\n",
       "    <tr>\n",
       "      <th id=\"T_7f986_level0_row11\" class=\"row_heading level0 row11\" >knn</th>\n",
       "      <td id=\"T_7f986_row11_col0\" class=\"data row11 col0\" >K Neighbors Classifier</td>\n",
       "      <td id=\"T_7f986_row11_col1\" class=\"data row11 col1\" >0.7298</td>\n",
       "      <td id=\"T_7f986_row11_col2\" class=\"data row11 col2\" >0.4853</td>\n",
       "      <td id=\"T_7f986_row11_col3\" class=\"data row11 col3\" >0.2400</td>\n",
       "      <td id=\"T_7f986_row11_col4\" class=\"data row11 col4\" >0.6833</td>\n",
       "      <td id=\"T_7f986_row11_col5\" class=\"data row11 col5\" >0.3369</td>\n",
       "      <td id=\"T_7f986_row11_col6\" class=\"data row11 col6\" >0.2145</td>\n",
       "      <td id=\"T_7f986_row11_col7\" class=\"data row11 col7\" >0.2682</td>\n",
       "      <td id=\"T_7f986_row11_col8\" class=\"data row11 col8\" >0.2950</td>\n",
       "    </tr>\n",
       "    <tr>\n",
       "      <th id=\"T_7f986_level0_row12\" class=\"row_heading level0 row12\" >dummy</th>\n",
       "      <td id=\"T_7f986_row12_col0\" class=\"data row12 col0\" >Dummy Classifier</td>\n",
       "      <td id=\"T_7f986_row12_col1\" class=\"data row12 col1\" >0.7004</td>\n",
       "      <td id=\"T_7f986_row12_col2\" class=\"data row12 col2\" >0.5000</td>\n",
       "      <td id=\"T_7f986_row12_col3\" class=\"data row12 col3\" >0.0000</td>\n",
       "      <td id=\"T_7f986_row12_col4\" class=\"data row12 col4\" >0.0000</td>\n",
       "      <td id=\"T_7f986_row12_col5\" class=\"data row12 col5\" >0.0000</td>\n",
       "      <td id=\"T_7f986_row12_col6\" class=\"data row12 col6\" >0.0000</td>\n",
       "      <td id=\"T_7f986_row12_col7\" class=\"data row12 col7\" >0.0000</td>\n",
       "      <td id=\"T_7f986_row12_col8\" class=\"data row12 col8\" >0.0040</td>\n",
       "    </tr>\n",
       "    <tr>\n",
       "      <th id=\"T_7f986_level0_row13\" class=\"row_heading level0 row13\" >svm</th>\n",
       "      <td id=\"T_7f986_row13_col0\" class=\"data row13 col0\" >SVM - Linear Kernel</td>\n",
       "      <td id=\"T_7f986_row13_col1\" class=\"data row13 col1\" >0.4607</td>\n",
       "      <td id=\"T_7f986_row13_col2\" class=\"data row13 col2\" >0.0000</td>\n",
       "      <td id=\"T_7f986_row13_col3\" class=\"data row13 col3\" >0.6000</td>\n",
       "      <td id=\"T_7f986_row13_col4\" class=\"data row13 col4\" >0.1801</td>\n",
       "      <td id=\"T_7f986_row13_col5\" class=\"data row13 col5\" >0.2771</td>\n",
       "      <td id=\"T_7f986_row13_col6\" class=\"data row13 col6\" >0.0000</td>\n",
       "      <td id=\"T_7f986_row13_col7\" class=\"data row13 col7\" >0.0000</td>\n",
       "      <td id=\"T_7f986_row13_col8\" class=\"data row13 col8\" >0.0040</td>\n",
       "    </tr>\n",
       "  </tbody>\n",
       "</table>\n"
      ],
      "text/plain": [
       "<pandas.io.formats.style.Styler at 0x22891105090>"
      ]
     },
     "metadata": {},
     "output_type": "display_data"
    },
    {
     "data": {
      "text/html": [],
      "text/plain": [
       "<IPython.core.display.HTML object>"
      ]
     },
     "metadata": {},
     "output_type": "display_data"
    }
   ],
   "source": [
    "clf = setup(data=train_df, target='death_event', session_id=123)\n",
    "best_model = compare_models()"
   ]
  },
  {
   "cell_type": "code",
   "execution_count": 8,
   "id": "6fcd8671",
   "metadata": {},
   "outputs": [
    {
     "name": "stdout",
     "output_type": "stream",
     "text": [
      "{'bootstrap': True,\n",
      " 'ccp_alpha': 0.0,\n",
      " 'class_weight': None,\n",
      " 'criterion': 'gini',\n",
      " 'max_depth': None,\n",
      " 'max_features': 'sqrt',\n",
      " 'max_leaf_nodes': None,\n",
      " 'max_samples': None,\n",
      " 'min_impurity_decrease': 0.0,\n",
      " 'min_samples_leaf': 1,\n",
      " 'min_samples_split': 2,\n",
      " 'min_weight_fraction_leaf': 0.0,\n",
      " 'monotonic_cst': None,\n",
      " 'n_estimators': 100,\n",
      " 'n_jobs': -1,\n",
      " 'oob_score': False,\n",
      " 'random_state': 123,\n",
      " 'verbose': 0,\n",
      " 'warm_start': False}\n"
     ]
    }
   ],
   "source": [
    "pprint.pp(best_model.get_params())"
   ]
  },
  {
   "cell_type": "code",
   "execution_count": 9,
   "id": "fbaee098",
   "metadata": {},
   "outputs": [],
   "source": [
    "# Initialize model dict for comparison\n",
    "model_dict = {}"
   ]
  },
  {
   "cell_type": "markdown",
   "id": "1896f437",
   "metadata": {},
   "source": [
    "# Random Forest Classifier"
   ]
  },
  {
   "cell_type": "code",
   "execution_count": 10,
   "id": "9dc283b9",
   "metadata": {},
   "outputs": [
    {
     "data": {
      "text/plain": [
       "0.75"
      ]
     },
     "execution_count": 10,
     "metadata": {},
     "output_type": "execute_result"
    }
   ],
   "source": [
    "scaler = StandardScaler().fit(X_train)\n",
    "X_train_trans = scaler.transform(X_train)\n",
    "X_test_trans = scaler.transform(X_test)\n",
    "\n",
    "rfc = RandomForestClassifier(random_state=42)\n",
    "rfc.fit(X_train_trans, y_train)\n",
    "y_pred = rfc.predict(X_test_trans)\n",
    "accuracy_score(y_test, y_pred)"
   ]
  },
  {
   "cell_type": "code",
   "execution_count": 11,
   "id": "c378bcfe",
   "metadata": {
    "scrolled": false
   },
   "outputs": [
    {
     "name": "stdout",
     "output_type": "stream",
     "text": [
      "0.8829787234042554\n"
     ]
    }
   ],
   "source": [
    "num_transformer = Pipeline(steps=[\n",
    "    ('scaler', StandardScaler())\n",
    "])\n",
    "\n",
    "preprocessor = ColumnTransformer(transformers=[\n",
    "    ('num', num_transformer, num_vars)\n",
    "])\n",
    "\n",
    "pipe = Pipeline(steps=[\n",
    "    ('preprocessor', preprocessor),\n",
    "    ('classifier', RandomForestClassifier(random_state=42))\n",
    "])\n",
    "\n",
    "param_grid = {\n",
    "    'classifier__n_estimators': [50, 100],\n",
    "    'classifier__max_depth': [None, 5, 10],\n",
    "    'classifier__max_leaf_nodes': [None, 1, 5],\n",
    "    'classifier__n_jobs': [-1, None]\n",
    "}\n",
    "\n",
    "grid = GridSearchCV(pipe, param_grid, cv=5)\n",
    "grid.fit(X_train, y_train)\n",
    "\n",
    "model_dict['Random Forest Classifier'] = grid\n",
    "\n",
    "print(grid.best_score_)"
   ]
  },
  {
   "cell_type": "markdown",
   "id": "80adaf7a",
   "metadata": {},
   "source": [
    "# LGBM"
   ]
  },
  {
   "cell_type": "code",
   "execution_count": 12,
   "id": "cff92594",
   "metadata": {},
   "outputs": [
    {
     "data": {
      "text/plain": [
       "0.75"
      ]
     },
     "execution_count": 12,
     "metadata": {},
     "output_type": "execute_result"
    }
   ],
   "source": [
    "scaler = StandardScaler().fit(X_train)\n",
    "X_train_trans = scaler.transform(X_train)\n",
    "X_test_trans = scaler.transform(X_test)\n",
    "\n",
    "lgbm = LGBMClassifier(random_state=42, verbose=-1)\n",
    "lgbm.fit(X_train_trans, y_train)\n",
    "y_pred = lgbm.predict(X_test_trans)\n",
    "accuracy_score(y_test, y_pred)"
   ]
  },
  {
   "cell_type": "code",
   "execution_count": 13,
   "id": "712bb338",
   "metadata": {},
   "outputs": [
    {
     "name": "stdout",
     "output_type": "stream",
     "text": [
      "0.874645390070922\n"
     ]
    }
   ],
   "source": [
    "num_transformer = Pipeline(steps=[\n",
    "    ('scaler', StandardScaler())\n",
    "])\n",
    "\n",
    "preprocessor = ColumnTransformer(transformers=[\n",
    "    ('num', num_transformer, num_vars)\n",
    "])\n",
    "\n",
    "pipe = Pipeline(steps=[\n",
    "    ('preprocessor', preprocessor),\n",
    "    ('classifier', LGBMClassifier(random_state=42, verbose=-1))\n",
    "])\n",
    "\n",
    "param_grid = {\n",
    "    'classifier__n_estimators': [100, 200],\n",
    "    'classifier__learning_rate': [0.05, 0.1],\n",
    "    'classifier__max_depth': [3, 5],\n",
    "    'classifier__num_leaves': [15, 31],\n",
    "}\n",
    "\n",
    "grid = GridSearchCV(pipe, param_grid, cv=5)\n",
    "grid.fit(X_train, y_train)\n",
    "\n",
    "model_dict['LGBM Classifier'] = grid\n",
    "\n",
    "print(grid.best_score_)"
   ]
  },
  {
   "cell_type": "markdown",
   "id": "cfab1f54",
   "metadata": {},
   "source": [
    "# Naive Bayes"
   ]
  },
  {
   "cell_type": "code",
   "execution_count": 14,
   "id": "655c3c96",
   "metadata": {},
   "outputs": [
    {
     "data": {
      "text/plain": [
       "0.7"
      ]
     },
     "execution_count": 14,
     "metadata": {},
     "output_type": "execute_result"
    }
   ],
   "source": [
    "scaler = StandardScaler().fit(X_train)\n",
    "X_train_trans = scaler.transform(X_train)\n",
    "X_test_trans = scaler.transform(X_test)\n",
    "\n",
    "nb = GaussianNB()\n",
    "nb.fit(X_train_trans, y_train)\n",
    "y_pred = nb.predict(X_test_trans)\n",
    "accuracy_score(y_test, y_pred)"
   ]
  },
  {
   "cell_type": "code",
   "execution_count": 15,
   "id": "71f703ef",
   "metadata": {},
   "outputs": [
    {
     "name": "stdout",
     "output_type": "stream",
     "text": [
      "0.7781914893617022\n"
     ]
    }
   ],
   "source": [
    "num_transformer = Pipeline(steps=[\n",
    "    ('scaler', StandardScaler())\n",
    "])\n",
    "\n",
    "preprocessor = ColumnTransformer(transformers=[\n",
    "    ('num', num_transformer, num_vars)\n",
    "])\n",
    "\n",
    "pipe = Pipeline(steps=[\n",
    "    ('preprocessor', preprocessor),\n",
    "    ('classifier', GaussianNB())\n",
    "])\n",
    "\n",
    "param_grid = {\n",
    "    'classifier__var_smoothing': [1e-9, 1e-8, 1e-7, 1e-6]\n",
    "}\n",
    "\n",
    "grid = GridSearchCV(pipe, param_grid, cv=5)\n",
    "grid.fit(X_train, y_train)\n",
    "\n",
    "model_dict['Naive Bayes Classifier'] = grid\n",
    "\n",
    "print(grid.best_score_)"
   ]
  },
  {
   "cell_type": "markdown",
   "id": "51bc9b7d",
   "metadata": {},
   "source": [
    "# Logistic Regression"
   ]
  },
  {
   "cell_type": "code",
   "execution_count": 16,
   "id": "3111100d",
   "metadata": {},
   "outputs": [
    {
     "data": {
      "text/plain": [
       "0.8"
      ]
     },
     "execution_count": 16,
     "metadata": {},
     "output_type": "execute_result"
    }
   ],
   "source": [
    "scaler = StandardScaler().fit(X_train)\n",
    "X_train_trans = scaler.transform(X_train)\n",
    "X_test_trans = scaler.transform(X_test)\n",
    "\n",
    "lr = LogisticRegression()\n",
    "lr.fit(X_train_trans, y_train)\n",
    "y_pred = lr.predict(X_test_trans)\n",
    "accuracy_score(y_test, y_pred)"
   ]
  },
  {
   "cell_type": "code",
   "execution_count": 17,
   "id": "0f93d00f",
   "metadata": {},
   "outputs": [
    {
     "name": "stdout",
     "output_type": "stream",
     "text": [
      "0.8281914893617021\n"
     ]
    }
   ],
   "source": [
    "num_transformer = Pipeline(steps=[\n",
    "    ('scaler', StandardScaler())\n",
    "])\n",
    "\n",
    "preprocessor = ColumnTransformer(transformers=[\n",
    "    ('num', num_transformer, num_vars)\n",
    "])\n",
    "\n",
    "pipe = Pipeline(steps=[\n",
    "    ('preprocessor', preprocessor),\n",
    "    ('classifier', LogisticRegression())\n",
    "])\n",
    "\n",
    "param_grid = {\n",
    "    'classifier__penalty': ['l2'],\n",
    "    'classifier__C': [0.1, 1, 10],\n",
    "    'classifier__solver': ['liblinear']\n",
    "}\n",
    "\n",
    "grid = GridSearchCV(pipe, param_grid, cv=5)\n",
    "grid.fit(X_train, y_train)\n",
    "\n",
    "model_dict['Logistic Regression'] = grid\n",
    "\n",
    "print(grid.best_score_)"
   ]
  },
  {
   "cell_type": "markdown",
   "id": "e0a673cc",
   "metadata": {},
   "source": [
    "# Evaluation"
   ]
  },
  {
   "cell_type": "code",
   "execution_count": 18,
   "id": "e1ff19ec",
   "metadata": {},
   "outputs": [],
   "source": [
    "def score_models(models):\n",
    "    scores_dict = {}\n",
    "    \n",
    "    for name, model in models.items():\n",
    "        y_pred = model.predict(X_test)\n",
    "        \n",
    "        scores_dict[name] = {'Accuracy': accuracy_score(y_test, y_pred),\n",
    "                       'Precision': precision_score(y_test, y_pred),\n",
    "                       'Recall': recall_score(y_test, y_pred),\n",
    "                       'F1': f1_score(y_test, y_pred)}\n",
    "                       \n",
    "    return scores_dict"
   ]
  },
  {
   "cell_type": "code",
   "execution_count": 19,
   "id": "8b0f25bb",
   "metadata": {},
   "outputs": [
    {
     "data": {
      "text/plain": [
       "{'Random Forest Classifier': {'Accuracy': 0.7333333333333333,\n",
       "  'Precision': 0.8,\n",
       "  'Recall': 0.48,\n",
       "  'F1': 0.6},\n",
       " 'LGBM Classifier': {'Accuracy': 0.75,\n",
       "  'Precision': 0.7272727272727273,\n",
       "  'Recall': 0.64,\n",
       "  'F1': 0.6808510638297872},\n",
       " 'Naive Bayes Classifier': {'Accuracy': 0.7,\n",
       "  'Precision': 0.8181818181818182,\n",
       "  'Recall': 0.36,\n",
       "  'F1': 0.5},\n",
       " 'Logistic Regression': {'Accuracy': 0.8,\n",
       "  'Precision': 0.9333333333333333,\n",
       "  'Recall': 0.56,\n",
       "  'F1': 0.7}}"
      ]
     },
     "execution_count": 19,
     "metadata": {},
     "output_type": "execute_result"
    }
   ],
   "source": [
    "scores_dict = score_models(model_dict)\n",
    "scores_dict"
   ]
  },
  {
   "cell_type": "code",
   "execution_count": 20,
   "id": "dbf890da",
   "metadata": {},
   "outputs": [
    {
     "data": {
      "text/html": [
       "<div>\n",
       "<style scoped>\n",
       "    .dataframe tbody tr th:only-of-type {\n",
       "        vertical-align: middle;\n",
       "    }\n",
       "\n",
       "    .dataframe tbody tr th {\n",
       "        vertical-align: top;\n",
       "    }\n",
       "\n",
       "    .dataframe thead th {\n",
       "        text-align: right;\n",
       "    }\n",
       "</style>\n",
       "<table border=\"1\" class=\"dataframe\">\n",
       "  <thead>\n",
       "    <tr style=\"text-align: right;\">\n",
       "      <th></th>\n",
       "      <th>Classifier</th>\n",
       "      <th>Accuracy</th>\n",
       "      <th>Precision</th>\n",
       "      <th>Recall</th>\n",
       "      <th>F1</th>\n",
       "    </tr>\n",
       "  </thead>\n",
       "  <tbody>\n",
       "    <tr>\n",
       "      <th>0</th>\n",
       "      <td>Random Forest Classifier</td>\n",
       "      <td>0.73</td>\n",
       "      <td>0.80</td>\n",
       "      <td>0.48</td>\n",
       "      <td>0.60</td>\n",
       "    </tr>\n",
       "    <tr>\n",
       "      <th>1</th>\n",
       "      <td>LGBM Classifier</td>\n",
       "      <td>0.75</td>\n",
       "      <td>0.73</td>\n",
       "      <td>0.64</td>\n",
       "      <td>0.68</td>\n",
       "    </tr>\n",
       "    <tr>\n",
       "      <th>2</th>\n",
       "      <td>Naive Bayes Classifier</td>\n",
       "      <td>0.70</td>\n",
       "      <td>0.82</td>\n",
       "      <td>0.36</td>\n",
       "      <td>0.50</td>\n",
       "    </tr>\n",
       "    <tr>\n",
       "      <th>3</th>\n",
       "      <td>Logistic Regression</td>\n",
       "      <td>0.80</td>\n",
       "      <td>0.93</td>\n",
       "      <td>0.56</td>\n",
       "      <td>0.70</td>\n",
       "    </tr>\n",
       "  </tbody>\n",
       "</table>\n",
       "</div>"
      ],
      "text/plain": [
       "                 Classifier  Accuracy  Precision  Recall    F1\n",
       "0  Random Forest Classifier      0.73       0.80    0.48  0.60\n",
       "1           LGBM Classifier      0.75       0.73    0.64  0.68\n",
       "2    Naive Bayes Classifier      0.70       0.82    0.36  0.50\n",
       "3       Logistic Regression      0.80       0.93    0.56  0.70"
      ]
     },
     "execution_count": 20,
     "metadata": {},
     "output_type": "execute_result"
    }
   ],
   "source": [
    "scores_df = pd.DataFrame.from_dict(scores_dict)\n",
    "scores_df = scores_df.T.reset_index(names='Classifier')\n",
    "scores_df = round(scores_df, 2)\n",
    "scores_df"
   ]
  },
  {
   "cell_type": "code",
   "execution_count": 21,
   "id": "e7a13b65",
   "metadata": {},
   "outputs": [
    {
     "data": {
      "text/html": [
       "<div>\n",
       "<style scoped>\n",
       "    .dataframe tbody tr th:only-of-type {\n",
       "        vertical-align: middle;\n",
       "    }\n",
       "\n",
       "    .dataframe tbody tr th {\n",
       "        vertical-align: top;\n",
       "    }\n",
       "\n",
       "    .dataframe thead th {\n",
       "        text-align: right;\n",
       "    }\n",
       "</style>\n",
       "<table border=\"1\" class=\"dataframe\">\n",
       "  <thead>\n",
       "    <tr style=\"text-align: right;\">\n",
       "      <th></th>\n",
       "      <th>Classifier</th>\n",
       "      <th>Metric</th>\n",
       "      <th>Value</th>\n",
       "    </tr>\n",
       "  </thead>\n",
       "  <tbody>\n",
       "    <tr>\n",
       "      <th>0</th>\n",
       "      <td>Random Forest Classifier</td>\n",
       "      <td>Accuracy</td>\n",
       "      <td>0.73</td>\n",
       "    </tr>\n",
       "    <tr>\n",
       "      <th>1</th>\n",
       "      <td>LGBM Classifier</td>\n",
       "      <td>Accuracy</td>\n",
       "      <td>0.75</td>\n",
       "    </tr>\n",
       "    <tr>\n",
       "      <th>2</th>\n",
       "      <td>Naive Bayes Classifier</td>\n",
       "      <td>Accuracy</td>\n",
       "      <td>0.70</td>\n",
       "    </tr>\n",
       "    <tr>\n",
       "      <th>3</th>\n",
       "      <td>Logistic Regression</td>\n",
       "      <td>Accuracy</td>\n",
       "      <td>0.80</td>\n",
       "    </tr>\n",
       "    <tr>\n",
       "      <th>4</th>\n",
       "      <td>Random Forest Classifier</td>\n",
       "      <td>Precision</td>\n",
       "      <td>0.80</td>\n",
       "    </tr>\n",
       "    <tr>\n",
       "      <th>5</th>\n",
       "      <td>LGBM Classifier</td>\n",
       "      <td>Precision</td>\n",
       "      <td>0.73</td>\n",
       "    </tr>\n",
       "    <tr>\n",
       "      <th>6</th>\n",
       "      <td>Naive Bayes Classifier</td>\n",
       "      <td>Precision</td>\n",
       "      <td>0.82</td>\n",
       "    </tr>\n",
       "    <tr>\n",
       "      <th>7</th>\n",
       "      <td>Logistic Regression</td>\n",
       "      <td>Precision</td>\n",
       "      <td>0.93</td>\n",
       "    </tr>\n",
       "    <tr>\n",
       "      <th>8</th>\n",
       "      <td>Random Forest Classifier</td>\n",
       "      <td>Recall</td>\n",
       "      <td>0.48</td>\n",
       "    </tr>\n",
       "    <tr>\n",
       "      <th>9</th>\n",
       "      <td>LGBM Classifier</td>\n",
       "      <td>Recall</td>\n",
       "      <td>0.64</td>\n",
       "    </tr>\n",
       "    <tr>\n",
       "      <th>10</th>\n",
       "      <td>Naive Bayes Classifier</td>\n",
       "      <td>Recall</td>\n",
       "      <td>0.36</td>\n",
       "    </tr>\n",
       "    <tr>\n",
       "      <th>11</th>\n",
       "      <td>Logistic Regression</td>\n",
       "      <td>Recall</td>\n",
       "      <td>0.56</td>\n",
       "    </tr>\n",
       "    <tr>\n",
       "      <th>12</th>\n",
       "      <td>Random Forest Classifier</td>\n",
       "      <td>F1</td>\n",
       "      <td>0.60</td>\n",
       "    </tr>\n",
       "    <tr>\n",
       "      <th>13</th>\n",
       "      <td>LGBM Classifier</td>\n",
       "      <td>F1</td>\n",
       "      <td>0.68</td>\n",
       "    </tr>\n",
       "    <tr>\n",
       "      <th>14</th>\n",
       "      <td>Naive Bayes Classifier</td>\n",
       "      <td>F1</td>\n",
       "      <td>0.50</td>\n",
       "    </tr>\n",
       "    <tr>\n",
       "      <th>15</th>\n",
       "      <td>Logistic Regression</td>\n",
       "      <td>F1</td>\n",
       "      <td>0.70</td>\n",
       "    </tr>\n",
       "  </tbody>\n",
       "</table>\n",
       "</div>"
      ],
      "text/plain": [
       "                  Classifier     Metric  Value\n",
       "0   Random Forest Classifier   Accuracy   0.73\n",
       "1            LGBM Classifier   Accuracy   0.75\n",
       "2     Naive Bayes Classifier   Accuracy   0.70\n",
       "3        Logistic Regression   Accuracy   0.80\n",
       "4   Random Forest Classifier  Precision   0.80\n",
       "5            LGBM Classifier  Precision   0.73\n",
       "6     Naive Bayes Classifier  Precision   0.82\n",
       "7        Logistic Regression  Precision   0.93\n",
       "8   Random Forest Classifier     Recall   0.48\n",
       "9            LGBM Classifier     Recall   0.64\n",
       "10    Naive Bayes Classifier     Recall   0.36\n",
       "11       Logistic Regression     Recall   0.56\n",
       "12  Random Forest Classifier         F1   0.60\n",
       "13           LGBM Classifier         F1   0.68\n",
       "14    Naive Bayes Classifier         F1   0.50\n",
       "15       Logistic Regression         F1   0.70"
      ]
     },
     "execution_count": 21,
     "metadata": {},
     "output_type": "execute_result"
    }
   ],
   "source": [
    "df_long = scores_df.melt(id_vars='Classifier', \n",
    "                  value_vars=['Accuracy', 'Precision', 'Recall', 'F1'],\n",
    "                  var_name='Metric', value_name='Value')\n",
    "df_long"
   ]
  },
  {
   "cell_type": "code",
   "execution_count": 22,
   "id": "0a50fcfa",
   "metadata": {},
   "outputs": [
    {
     "data": {
      "image/png": "[encoded data removed]",
      "text/plain": [
       "<Figure size 800x550 with 1 Axes>"
      ]
     },
     "metadata": {},
     "output_type": "display_data"
    }
   ],
   "source": [
    "import seaborn as sns\n",
    "\n",
    "ax = sns.barplot(data=df_long, x='Classifier', y='Value', hue='Metric')\n",
    "for container in ax.containers:\n",
    "    ax.bar_label(container, fontsize=10)\n",
    "plt.legend(bbox_to_anchor=(1, 1), fancybox=True, shadow=True, frameon=True)\n",
    "plt.title('Scoring Metrics by Classifier Model')\n",
    "plt.show()\n"
   ]
  },
  {
   "cell_type": "markdown",
   "id": "2b78ae2e",
   "metadata": {},
   "source": [
    "## Confusion Matrix"
   ]
  },
  {
   "cell_type": "code",
   "execution_count": 23,
   "id": "fee0593d",
   "metadata": {},
   "outputs": [],
   "source": [
    "# Create dicts for y_pred and y_proba for each model\n",
    "y_pred_dict = {}\n",
    "y_proba_dict = {}\n",
    "\n",
    "model_names = list(model_dict.keys())\n",
    "\n",
    "for name, model in model_dict.items():\n",
    "    y_pred_dict[name] = model.predict(X_test)\n",
    "    y_proba_dict[name] = model.predict_proba(X_test)[:,1]\n"
   ]
  },
  {
   "cell_type": "code",
   "execution_count": 24,
   "id": "a1fa1fb8",
   "metadata": {},
   "outputs": [
    {
     "data": {
      "image/png": "[encoded data removed]",
      "text/plain": [
       "<Figure size 800x550 with 8 Axes>"
      ]
     },
     "metadata": {},
     "output_type": "display_data"
    }
   ],
   "source": [
    "fig, ax = plt.subplots(2, 2, layout='constrained')\n",
    "\n",
    "ConfusionMatrixDisplay(confusion_matrix=confusion_matrix(y_test, y_pred_dict[model_names[0]])).plot(ax=ax[0,0])\n",
    "ConfusionMatrixDisplay(confusion_matrix=confusion_matrix(y_test, y_pred_dict[model_names[1]])).plot(ax=ax[0,1])\n",
    "ConfusionMatrixDisplay(confusion_matrix=confusion_matrix(y_test, y_pred_dict[model_names[2]])).plot(ax=ax[1,0])\n",
    "ConfusionMatrixDisplay(confusion_matrix=confusion_matrix(y_test, y_pred_dict[model_names[3]])).plot(ax=ax[1,1])\n",
    "\n",
    "ax[0, 0].set_title(model_names[0])\n",
    "ax[0, 1].set_title(model_names[1])\n",
    "ax[1, 0].set_title(model_names[2])\n",
    "ax[1, 1].set_title(model_names[3])\n",
    "\n",
    "plt.show()"
   ]
  },
  {
   "cell_type": "markdown",
   "id": "7f7b06da",
   "metadata": {},
   "source": [
    "* Random Forest and Naive Bayes have large numbers of false negatives\n",
    "* Logistic Regression has more false negatives than LGBM, but has fewer (only 1) false positives and a greater total number of correct predictions\n",
    "* Because this is a death prediction classifier, we want to avoid false negatives and optimize for a better recall score so LGBM may be a better model for this problem than Logisitic Regression, despite it's lower accuracy and precision"
   ]
  },
  {
   "cell_type": "markdown",
   "id": "9c05a77d",
   "metadata": {},
   "source": [
    "# ROC AUC Curve"
   ]
  },
  {
   "cell_type": "code",
   "execution_count": 25,
   "id": "8d13c85a",
   "metadata": {},
   "outputs": [
    {
     "data": {
      "image/png": "[encoded data removed]",
      "text/plain": [
       "<Figure size 800x800 with 4 Axes>"
      ]
     },
     "metadata": {},
     "output_type": "display_data"
    }
   ],
   "source": [
    "fig, ax = plt.subplots(2, 2, figsize=(8, 8), layout='constrained')\n",
    "\n",
    "RocCurveDisplay.from_predictions(y_test, y_proba_dict[model_names[0]], ax=ax[0,0])\n",
    "RocCurveDisplay.from_predictions(y_test, y_proba_dict[model_names[1]], ax=ax[0,1])\n",
    "RocCurveDisplay.from_predictions(y_test, y_proba_dict[model_names[2]], ax=ax[1,0])\n",
    "RocCurveDisplay.from_predictions(y_test, y_proba_dict[model_names[3]], ax=ax[1,1])\n",
    "\n",
    "ax[0, 0].set_title(model_names[0])\n",
    "ax[0, 0].axline((0, 0), slope=1, linestyle='--', color='r', label='Random Classifier')\n",
    "ax[0, 1].set_title(model_names[1])\n",
    "ax[0, 1].axline((0, 0), slope=1, linestyle='--', color='r', label='Random Classifier')\n",
    "ax[1, 0].set_title(model_names[2])\n",
    "ax[1, 0].axline((0, 0), slope=1, linestyle='--', color='r', label='Random Classifier')\n",
    "ax[1, 1].set_title(model_names[3])\n",
    "ax[1, 1].axline((0, 0), slope=1, linestyle='--', color='r', label='Random Classifier')\n",
    "\n",
    "\n",
    "plt.show()"
   ]
  },
  {
   "cell_type": "markdown",
   "id": "587a800d",
   "metadata": {},
   "source": [
    "* At the current threshold (0.5), the LGBM has the highest AUC score of 0.87.\n",
    "* However if the threshold is adjusted, the ROC curve indicates that Random Forest can give us the best recall vs precision trade off."
   ]
  },
  {
   "cell_type": "markdown",
   "id": "8b048b3a",
   "metadata": {},
   "source": [
    "# Feature Importance\n",
    "Feature importance from the Random Forest Classifier"
   ]
  },
  {
   "cell_type": "code",
   "execution_count": 26,
   "id": "b66e42b8",
   "metadata": {},
   "outputs": [
    {
     "data": {
      "image/png": "[encoded data removed]",
      "text/plain": [
       "<Figure size 800x550 with 1 Axes>"
      ]
     },
     "metadata": {},
     "output_type": "display_data"
    }
   ],
   "source": [
    "# Code for random forest feature importance graph adapted from https://www.kaggle.com/code/durgancegaur/a-guide-to-any-classification-problem\n",
    "\n",
    "features = X_test.columns.tolist()\n",
    "\n",
    "plt.figure()\n",
    "importance = rfc.feature_importances_\n",
    "idxs = np.argsort(importance)\n",
    "plt.title(\"Feature Importance\")\n",
    "plt.barh(range(len(idxs)),importance[idxs],align=\"center\")\n",
    "plt.yticks(range(len(idxs)),[features[i] for i in idxs])\n",
    "plt.xlabel(\"Random Forest Feature Importance\")\n",
    "plt.show()"
   ]
  },
  {
   "cell_type": "markdown",
   "id": "36b81820",
   "metadata": {},
   "source": [
    "# Next Steps\n",
    "* Consider adjusting for class imbalance of death_event\n",
    "* Threshold optimization based on ROC-AUC curve analysis\n",
    "* Precision-recall curves for better insight into minority class performance\n",
    "* Model comparison table\n",
    "* Explore feature importance further to increase interpretability\n",
    "* Explore feature reducation/ablation to see if any effect on model performance\n",
    "* Pickle best-perfoming model after further optimization for future use\n"
   ]
  },
  {
   "cell_type": "code",
   "execution_count": null,
   "id": "d161ca6d",
   "metadata": {},
   "outputs": [],
   "source": []
  }
 ],
 "metadata": {
  "kernelspec": {
   "display_name": "Python 3 (ipykernel)",
   "language": "python",
   "name": "python3"
  },
  "language_info": {
   "codemirror_mode": {
    "name": "ipython",
    "version": 3
   },
   "file_extension": ".py",
   "mimetype": "text/x-python",
   "name": "python",
   "nbconvert_exporter": "python",
   "pygments_lexer": "ipython3",
   "version": "3.11.4"
  }
 },
 "nbformat": 4,
 "nbformat_minor": 5
}
